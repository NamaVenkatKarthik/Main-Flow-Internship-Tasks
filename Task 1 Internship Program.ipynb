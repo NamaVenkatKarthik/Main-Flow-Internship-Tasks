{
 "cells": [
  {
   "cell_type": "code",
   "execution_count": 1,
   "id": "41aeccde-69b5-4f47-aef6-06368b1ce333",
   "metadata": {},
   "outputs": [
    {
     "name": "stdout",
     "output_type": "stream",
     "text": [
      "Created list is [5, 10, 15, 20, 25]\n"
     ]
    }
   ],
   "source": [
    "#Create a list\n",
    "my_list=[5,10,15,20,25]\n",
    "print(\"Created list is\",my_list)"
   ]
  },
  {
   "cell_type": "code",
   "execution_count": 2,
   "id": "fcd2725c-bbc7-414e-869b-4d0fbdd338ae",
   "metadata": {},
   "outputs": [
    {
     "name": "stdout",
     "output_type": "stream",
     "text": [
      "After Adding Elements the list is [5, 10, 15, 20, 25, 30]\n"
     ]
    }
   ],
   "source": [
    "#Adding Elements to list\n",
    "my_list.append(30)\n",
    "print(\"After Adding Elements the list is\",my_list)"
   ]
  },
  {
   "cell_type": "code",
   "execution_count": 3,
   "id": "3871dee4-2000-456b-8439-343d04c8101e",
   "metadata": {},
   "outputs": [
    {
     "name": "stdout",
     "output_type": "stream",
     "text": [
      "After Removing Elements the list is [5, 15, 20, 25, 30]\n"
     ]
    }
   ],
   "source": [
    "#Removing Elements from the list\n",
    "my_list.remove(10)\n",
    "print(\"After Removing Elements the list is\",my_list)"
   ]
  },
  {
   "cell_type": "code",
   "execution_count": 4,
   "id": "a3e34723-70f1-4f9d-b043-17eebbe1f89b",
   "metadata": {},
   "outputs": [
    {
     "name": "stdout",
     "output_type": "stream",
     "text": [
      "After Modifying elements in the list [35, 15, 20, 25, 30]\n"
     ]
    }
   ],
   "source": [
    "#Modifying an element in the list\n",
    "my_list[0]=35\n",
    "print(\"After Modifying elements in the list\",my_list)"
   ]
  },
  {
   "cell_type": "code",
   "execution_count": 5,
   "id": "c3f94948-0dcb-4af0-8cf7-b4a3644ecd10",
   "metadata": {},
   "outputs": [
    {
     "name": "stdout",
     "output_type": "stream",
     "text": [
      "Created Dictionary is {'Name': 'karthik', 'Age': '19', 'City': 'Kakinada'}\n"
     ]
    }
   ],
   "source": [
    "#Create a Dictionary\n",
    "my_dict={'Name':'karthik','Age':'19','City':'Kakinada'}\n",
    "print(\"Created Dictionary is\",my_dict)"
   ]
  },
  {
   "cell_type": "code",
   "execution_count": 6,
   "id": "233a45c6-65e4-4cf0-a8aa-27509c73f097",
   "metadata": {},
   "outputs": [
    {
     "name": "stdout",
     "output_type": "stream",
     "text": [
      "After adding key value pair to dictionary {'Name': 'karthik', 'Age': '19', 'City': 'Kakinada', 'Gender': 'Male'}\n"
     ]
    }
   ],
   "source": [
    "#Adding new key_value pair to the dictionary\n",
    "my_dict['Gender']='Male'\n",
    "print(\"After adding key value pair to dictionary\",my_dict)"
   ]
  },
  {
   "cell_type": "code",
   "execution_count": 7,
   "id": "91584581-005c-4322-b340-55ecdaabc0e5",
   "metadata": {},
   "outputs": [
    {
     "name": "stdout",
     "output_type": "stream",
     "text": [
      "Remove a key value pair from the dictionary {'Name': 'karthik', 'City': 'Kakinada', 'Gender': 'Male'}\n"
     ]
    }
   ],
   "source": [
    "#Removing a key_value from the dictionary\n",
    "del my_dict['Age']\n",
    "print(\"Remove a key value pair from the dictionary\",my_dict)"
   ]
  },
  {
   "cell_type": "code",
   "execution_count": 8,
   "id": "1e6f9711-1be5-4ad1-8bc2-9d1e5db11367",
   "metadata": {},
   "outputs": [
    {
     "name": "stdout",
     "output_type": "stream",
     "text": [
      "After Modifying elements in the dictionary {'Name': 'karthik', 'City': 'Hyderabad', 'Gender': 'Male'}\n"
     ]
    }
   ],
   "source": [
    "#Modifying a value in dictionary\n",
    "my_dict['City']='Hyderabad'\n",
    "print(\"After Modifying elements in the dictionary\",my_dict)"
   ]
  },
  {
   "cell_type": "code",
   "execution_count": 9,
   "id": "5293de32-b5ed-4744-99d1-a4560f66cedc",
   "metadata": {},
   "outputs": [
    {
     "name": "stdout",
     "output_type": "stream",
     "text": [
      "Created set is {1, 2, 3, 4, 5}\n"
     ]
    }
   ],
   "source": [
    "#Create a set\n",
    "my_set={1,2,3,4,5}\n",
    "print(\"Created set is\",my_set)"
   ]
  },
  {
   "cell_type": "code",
   "execution_count": 10,
   "id": "2e730789-8980-4bbc-9eac-44e9402c5255",
   "metadata": {},
   "outputs": [
    {
     "name": "stdout",
     "output_type": "stream",
     "text": [
      "After adding an element to set {1, 2, 3, 4, 5, 6}\n"
     ]
    }
   ],
   "source": [
    "#Adding new element to set\n",
    "my_set.add(6)\n",
    "print(\"After adding an element to set\",my_set)"
   ]
  },
  {
   "cell_type": "code",
   "execution_count": 11,
   "id": "276842cd-13e8-49aa-9317-05d510a68a55",
   "metadata": {},
   "outputs": [
    {
     "name": "stdout",
     "output_type": "stream",
     "text": [
      "After Removing elements from the set {1, 2, 3, 5, 6}\n"
     ]
    }
   ],
   "source": [
    "#Removing an element from the set\n",
    "my_set.remove(4)\n",
    "print(\"After Removing elements from the set\",my_set)"
   ]
  },
  {
   "cell_type": "code",
   "execution_count": 12,
   "id": "34fb47dd-1508-4f2d-991c-e6130d65ee8a",
   "metadata": {},
   "outputs": [
    {
     "name": "stdout",
     "output_type": "stream",
     "text": [
      "After Modifying elements in the set {2, 3, 5, 6, 7}\n"
     ]
    }
   ],
   "source": [
    "#Modifying elements in set\n",
    "my_set.discard(1)\n",
    "my_set.add(7)\n",
    "print(\"After Modifying elements in the set\",my_set)"
   ]
  },
  {
   "cell_type": "code",
   "execution_count": null,
   "id": "e9efccea-cd08-409d-b994-c038e01f736f",
   "metadata": {},
   "outputs": [],
   "source": []
  }
 ],
 "metadata": {
  "kernelspec": {
   "display_name": "Python 3 (ipykernel)",
   "language": "python",
   "name": "python3"
  },
  "language_info": {
   "codemirror_mode": {
    "name": "ipython",
    "version": 3
   },
   "file_extension": ".py",
   "mimetype": "text/x-python",
   "name": "python",
   "nbconvert_exporter": "python",
   "pygments_lexer": "ipython3",
   "version": "3.11.7"
  }
 },
 "nbformat": 4,
 "nbformat_minor": 5
}
