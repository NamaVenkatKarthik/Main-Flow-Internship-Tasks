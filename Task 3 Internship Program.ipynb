{
 "cells": [
  {
   "cell_type": "code",
   "execution_count": null,
   "id": "ed54899a-1b80-43ae-a82b-eb22b74cda11",
   "metadata": {},
   "outputs": [],
   "source": [
    "# Data Visualization\n",
    "# Data Visualization using Matplotlib"
   ]
  },
  {
   "cell_type": "code",
   "execution_count": null,
   "id": "d8af8390-1441-456b-b653-0bc471ab1f03",
   "metadata": {},
   "outputs": [],
   "source": [
    "import numpy as np\n",
    "import pandas as pd\n",
    "import matplotlib.pyplot as plt"
   ]
  },
  {
   "cell_type": "code",
   "execution_count": null,
   "id": "2c2223eb-9fa7-494a-bd6e-a575eaee0797",
   "metadata": {},
   "outputs": [],
   "source": [
    "# Plotting using CSV file.\n",
    "# Importing a CSV file..\n",
    "data=pd.read_csv('householdtask3.csv')\n",
    "data"
   ]
  },
  {
   "cell_type": "code",
   "execution_count": null,
   "id": "07a50a63-3bf9-4305-ba20-920b578504d8",
   "metadata": {},
   "outputs": [],
   "source": [
    "# Bar chart or Bar plot..\n",
    "plt.bar(data['year'],data['own'])\n",
    "\n",
    "#adding title to the plot..\n",
    "plt.title(\"Bar Chart\")\n",
    "\n",
    "#Setting the x and y labels..\n",
    "plt.xlabel('year')\n",
    "plt.ylabel('own')\n",
    "\n",
    "plt.legend( [\"HouseholdTask\"],loc=\"upper left\")\n",
    "\n",
    "plt.show()"
   ]
  },
  {
   "cell_type": "code",
   "execution_count": null,
   "id": "af6c8a9a-5038-4c0b-b678-d6cdb28c4993",
   "metadata": {},
   "outputs": [],
   "source": [
    "# Line Plot or Chart..\n",
    "plt.plot(data['year'],data['own'])\n",
    "\n",
    "# Adding title to the plot..\n",
    "plt.title('Line Plot')\n",
    "\n",
    "#Adiing labels x & y..\n",
    "plt.xlabel('Year')\n",
    "plt.ylabel('age')\n",
    "\n",
    "plt.legend(['year & age'],loc=\"upper left\")\n",
    "plt.show()"
   ]
  },
  {
   "cell_type": "code",
   "execution_count": null,
   "id": "955964f0-cc57-47d4-b1fc-b480947d8b9f",
   "metadata": {},
   "outputs": [],
   "source": [
    "# Scatter plot with year\n",
    "plt.scatter(data['year'],data['income'])\n",
    "\n",
    "#Adding title to the plot..\n",
    "plt.title(\"scatter plot\")\n",
    "\n",
    "#setting the x and y labels..\n",
    "plt.xlabel('year')\n",
    "plt.ylabel('income')\n",
    "\n",
    "#Showing the result..\n",
    "plt.show()"
   ]
  },
  {
   "cell_type": "code",
   "execution_count": null,
   "id": "5cd47a4c-c5dd-4062-9d5a-836ff328d48f",
   "metadata": {},
   "outputs": [],
   "source": [
    "# histogram\n",
    "plt.hist(data['expenditure'])\n",
    "\n",
    "#Adding the title..\n",
    "plt.title(\"Histogram\")\n",
    "\n",
    "# showing the result..\n",
    "plt.show()"
   ]
  },
  {
   "cell_type": "code",
   "execution_count": null,
   "id": "52935815-fe44-4091-a198-d510f7e8c713",
   "metadata": {},
   "outputs": [],
   "source": [
    "#plotting two histograms income and expenditure..\n",
    "plt.hist(data['income'])\n",
    "plt.hist(data['expenditure'])\n",
    "\n",
    "#Adding the title..\n",
    "plt.title(\"Histogram\")\n",
    "\n",
    "# showing the result..\n",
    "plt.show()"
   ]
  },
  {
   "cell_type": "code",
   "execution_count": null,
   "id": "bbaf05e4-dbcb-4dff-8f24-ff67055d84d0",
   "metadata": {},
   "outputs": [],
   "source": []
  },
  {
   "cell_type": "code",
   "execution_count": null,
   "id": "e390d3c8-f398-4f0e-9853-350c446f3e4d",
   "metadata": {},
   "outputs": [],
   "source": []
  },
  {
   "cell_type": "code",
   "execution_count": null,
   "id": "f92c0c70-480b-4f2d-b285-c52cdec83ecd",
   "metadata": {},
   "outputs": [],
   "source": []
  }
 ],
 "metadata": {
  "kernelspec": {
   "display_name": "Python 3 (ipykernel)",
   "language": "python",
   "name": "python3"
  },
  "language_info": {
   "codemirror_mode": {
    "name": "ipython",
    "version": 3
   },
   "file_extension": ".py",
   "mimetype": "text/x-python",
   "name": "python",
   "nbconvert_exporter": "python",
   "pygments_lexer": "ipython3",
   "version": "3.11.7"
  }
 },
 "nbformat": 4,
 "nbformat_minor": 5
}
